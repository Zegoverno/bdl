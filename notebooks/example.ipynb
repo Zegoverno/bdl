{
 "cells": [
  {
   "cell_type": "code",
   "execution_count": 8,
   "id": "d293d1d2",
   "metadata": {},
   "outputs": [],
   "source": [
    "import sys\n",
    "import json\n",
    "import importlib\n",
    "\n",
    "sys.path.insert(0, '../bdl')  # Adjust the path to your local module\n",
    "\n",
    "# Reload the module to reflect the latest changes\n",
    "import core\n",
    "importlib.reload(core)\n",
    "from core import BDL"
   ]
  },
  {
   "cell_type": "markdown",
   "id": "154fed6a",
   "metadata": {},
   "source": [
    "## Initialize the BDL Client\n",
    "Initialize the BDL client using the credentials file."
   ]
  },
  {
   "cell_type": "code",
   "execution_count": 9,
   "id": "7b3299d1",
   "metadata": {},
   "outputs": [
    {
     "name": "stderr",
     "output_type": "stream",
     "text": [
      "2024-07-30 19:34:04,476 [INFO    ] [core:29]: Request being sent to HTTP server\n",
      "2024-07-30 19:34:05,392 [INFO    ] [core:31]: Response received with status: 200\n",
      "2024-07-30 19:34:05,395 [INFO    ] [core:71]: Authenticated successfully\n"
     ]
    }
   ],
   "source": [
    "# Initialize the BDL client with credentials_path\n",
    "bloomberg = BDL(credentials_path='../credentials/credential.txt')"
   ]
  },
  {
   "cell_type": "markdown",
   "id": "2a676428",
   "metadata": {},
   "source": [
    "## Test the Connection\n",
    "Test the connection to ensure the credentials are working correctly."
   ]
  },
  {
   "cell_type": "code",
   "execution_count": 54,
   "id": "a737a59d",
   "metadata": {},
   "outputs": [
    {
     "name": "stderr",
     "output_type": "stream",
     "text": [
      "2024-07-30 17:56:45,673 [INFO    ] [core:75]: Testing connection to Bloomberg API\n",
      "2024-07-30 17:56:45,818 [INFO    ] [core:29]: Request being sent to HTTP server\n",
      "2024-07-30 17:56:46,325 [INFO    ] [core:31]: Response received with status: 200\n",
      "2024-07-30 17:56:46,327 [INFO    ] [core:78]: Connection to Bloomberg API successful\n"
     ]
    }
   ],
   "source": [
    "# Test the connection\n",
    "bloomberg.test_connection()"
   ]
  },
  {
   "cell_type": "markdown",
   "id": "e05f4782",
   "metadata": {},
   "source": [
    "## Submit a Request\n",
    "Submit a request to get historical data."
   ]
  },
  {
   "cell_type": "code",
   "execution_count": 55,
   "id": "b3d8b4e8",
   "metadata": {},
   "outputs": [
    {
     "name": "stderr",
     "output_type": "stream",
     "text": [
      "2024-07-30 17:56:46,345 [INFO    ] [core:29]: Request being sent to HTTP server\n",
      "2024-07-30 17:56:46,570 [INFO    ] [core:31]: Response received with status: 200\n",
      "2024-07-30 17:56:46,572 [INFO    ] [core:29]: Request being sent to HTTP server\n",
      "2024-07-30 17:56:47,027 [INFO    ] [core:31]: Response received with status: 201\n",
      "2024-07-30 17:56:47,028 [INFO    ] [core:191]: Request ID: u5HNAKNdvxR6\n",
      "2024-07-30 17:56:47,030 [INFO    ] [core:29]: Request being sent to HTTP server\n",
      "2024-07-30 17:56:47,260 [INFO    ] [core:31]: Response received with status: 200\n",
      "2024-07-30 17:56:47,262 [INFO    ] [core:29]: Request being sent to HTTP server\n",
      "2024-07-30 17:56:47,451 [INFO    ] [core:31]: Response received with status: 200\n",
      "2024-07-30 17:56:57,465 [INFO    ] [core:29]: Request being sent to HTTP server\n",
      "2024-07-30 17:56:57,675 [INFO    ] [core:31]: Response received with status: 200\n",
      "2024-07-30 17:56:57,680 [INFO    ] [core:29]: Request being sent to HTTP server\n",
      "2024-07-30 17:56:57,841 [INFO    ] [core:31]: Response received with status: 200\n",
      "2024-07-30 17:57:07,863 [INFO    ] [core:29]: Request being sent to HTTP server\n",
      "2024-07-30 17:57:08,100 [INFO    ] [core:31]: Response received with status: 200\n",
      "2024-07-30 17:57:08,102 [INFO    ] [core:29]: Request being sent to HTTP server\n",
      "2024-07-30 17:57:08,306 [INFO    ] [core:31]: Response received with status: 200\n",
      "2024-07-30 17:57:18,317 [INFO    ] [core:29]: Request being sent to HTTP server\n",
      "2024-07-30 17:57:18,496 [INFO    ] [core:31]: Response received with status: 200\n",
      "2024-07-30 17:57:18,500 [INFO    ] [core:29]: Request being sent to HTTP server\n",
      "2024-07-30 17:57:18,675 [INFO    ] [core:31]: Response received with status: 200\n",
      "2024-07-30 17:57:28,686 [INFO    ] [core:29]: Request being sent to HTTP server\n",
      "2024-07-30 17:57:28,930 [INFO    ] [core:31]: Response received with status: 200\n",
      "2024-07-30 17:57:28,934 [INFO    ] [core:29]: Request being sent to HTTP server\n",
      "2024-07-30 17:57:29,108 [INFO    ] [core:31]: Response received with status: 200\n",
      "2024-07-30 17:57:39,118 [INFO    ] [core:29]: Request being sent to HTTP server\n",
      "2024-07-30 17:57:39,337 [INFO    ] [core:31]: Response received with status: 200\n",
      "2024-07-30 17:57:39,341 [INFO    ] [core:29]: Request being sent to HTTP server\n",
      "2024-07-30 17:57:39,523 [INFO    ] [core:31]: Response received with status: 200\n",
      "2024-07-30 17:57:49,535 [INFO    ] [core:29]: Request being sent to HTTP server\n",
      "2024-07-30 17:57:49,806 [INFO    ] [core:31]: Response received with status: 200\n",
      "2024-07-30 17:57:49,814 [INFO    ] [core:29]: Request being sent to HTTP server\n",
      "2024-07-30 17:57:49,987 [INFO    ] [core:31]: Response received with status: 200\n",
      "2024-07-30 17:57:49,990 [INFO    ] [core:113]: Response is ready\n",
      "2024-07-30 17:57:49,995 [INFO    ] [core:29]: Request being sent to HTTP server\n",
      "2024-07-30 17:57:50,145 [INFO    ] [core:31]: Response received with status: 200\n",
      "2024-07-30 17:57:50,153 [INFO    ] [core:29]: Request being sent to HTTP server\n",
      "2024-07-30 17:57:50,736 [INFO    ] [core:31]: Response received with status: 200\n"
     ]
    }
   ],
   "source": [
    "data = bloomberg.bdh(\n",
    "    tickers=[{'name':'SPXT Index', 'type': 'TICKER'}],\n",
    "    flds=['PX_LAST'],\n",
    "    end_date='2024-07-11',\n",
    "    start_date='1900-01-01',\n",
    "    period='daily',\n",
    "    currency='BRL',\n",
    ")"
   ]
  },
  {
   "cell_type": "code",
   "execution_count": 56,
   "id": "68a44d5d",
   "metadata": {},
   "outputs": [
    {
     "name": "stdout",
     "output_type": "stream",
     "text": [
      "[\n",
      "    {\n",
      "        \"DL_REQUEST_ID\": \"u5HNAKNdvxR6\",\n",
      "        \"DL_REQUEST_NAME\": \"BDLH20240730\",\n",
      "        \"DL_SNAPSHOT_START_TIME\": \"2024-07-30T16:56:54\",\n",
      "        \"DL_SNAPSHOT_TZ\": \"EDT\",\n",
      "        \"IDENTIFIER\": \"SPXsdasdaT Index\",\n",
      "        \"RC\": 10,\n",
      "        \"DATE\": null,\n",
      "        \"PX_LAST\": null\n",
      "    }\n",
      "]\n"
     ]
    }
   ],
   "source": [
    "data_json = json.loads(data)\n",
    "print(json.dumps(data_json, indent=4))"
   ]
  },
  {
   "cell_type": "code",
   "execution_count": 57,
   "id": "738fd0dd",
   "metadata": {},
   "outputs": [
    {
     "name": "stderr",
     "output_type": "stream",
     "text": [
      "2024-07-30 17:57:50,776 [INFO    ] [core:29]: Request being sent to HTTP server\n",
      "2024-07-30 17:57:50,996 [INFO    ] [core:31]: Response received with status: 200\n",
      "2024-07-30 17:57:50,998 [INFO    ] [core:29]: Request being sent to HTTP server\n",
      "2024-07-30 17:57:51,658 [INFO    ] [core:31]: Response received with status: 201\n",
      "2024-07-30 17:57:51,659 [INFO    ] [core:224]: Request ID: uHKrTeZZsmfr\n",
      "2024-07-30 17:57:51,667 [INFO    ] [core:29]: Request being sent to HTTP server\n",
      "2024-07-30 17:57:51,879 [INFO    ] [core:31]: Response received with status: 200\n",
      "2024-07-30 17:57:51,884 [INFO    ] [core:29]: Request being sent to HTTP server\n",
      "2024-07-30 17:57:52,061 [INFO    ] [core:31]: Response received with status: 200\n"
     ]
    }
   ],
   "source": [
    "data = bloomberg.bdd(\n",
    "    tickers=[{'name':'SPXT Index', 'type': 'TICKER'}],\n",
    "    flds=['TICKER', 'ID_BB_GLOBAL', 'SECURITY_TYP', 'NAME',\t'SECURITY_DES', 'COUNTRY_ISO', 'CURRENCY', 'SECURITY_TYP2', 'REGION_OR_COUNTRY', 'INDX_SOURCE',\t'HISTORY_START_DT'],\n",
    "    wait=False\n",
    ")"
   ]
  },
  {
   "cell_type": "code",
   "execution_count": 67,
   "id": "5db13d77",
   "metadata": {},
   "outputs": [
    {
     "name": "stderr",
     "output_type": "stream",
     "text": [
      "2024-07-30 18:00:03,661 [INFO    ] [core:29]: Request being sent to HTTP server\n",
      "2024-07-30 18:00:04,331 [INFO    ] [core:31]: Response received with status: 200\n",
      "2024-07-30 18:00:04,334 [INFO    ] [core:29]: Request being sent to HTTP server\n",
      "2024-07-30 18:00:04,553 [INFO    ] [core:31]: Response received with status: 200\n",
      "2024-07-30 18:00:04,557 [INFO    ] [core:113]: Response is ready\n",
      "2024-07-30 18:00:04,560 [INFO    ] [core:29]: Request being sent to HTTP server\n",
      "2024-07-30 18:00:04,831 [INFO    ] [core:31]: Response received with status: 200\n",
      "2024-07-30 18:00:04,842 [INFO    ] [core:29]: Request being sent to HTTP server\n",
      "2024-07-30 18:00:05,334 [INFO    ] [core:31]: Response received with status: 200\n"
     ]
    }
   ],
   "source": [
    "data = bloomberg.download_response(data[0], data[1], wait=False)"
   ]
  },
  {
   "cell_type": "code",
   "execution_count": 69,
   "id": "7e8a2a9d",
   "metadata": {},
   "outputs": [
    {
     "name": "stdout",
     "output_type": "stream",
     "text": [
      "[\n",
      "    {\n",
      "        \"DL_REQUEST_ID\": \"uHKrTeZZsmfr\",\n",
      "        \"DL_REQUEST_NAME\": \"BDLD20240730\",\n",
      "        \"DL_SNAPSHOT_START_TIME\": \"2024-07-30T16:57:59\",\n",
      "        \"DL_SNAPSHOT_TZ\": \"EDT\",\n",
      "        \"IDENTIFIER\": \"SPXT Index\",\n",
      "        \"RC\": 0,\n",
      "        \"TICKER\": \"SPXT\",\n",
      "        \"ID_BB_GLOBAL\": \"BBG000XPCGQ0\",\n",
      "        \"SECURITY_TYP\": \"Equity Index\",\n",
      "        \"NAME\": \"S&P 500 Total Return\",\n",
      "        \"SECURITY_DES\": \"SPXT\",\n",
      "        \"COUNTRY_ISO\": \"US\",\n",
      "        \"CURRENCY\": \"USD\",\n",
      "        \"SECURITY_TYP2\": \"Index\",\n",
      "        \"REGION_OR_COUNTRY\": \"North/Latin America\",\n",
      "        \"INDX_SOURCE\": \"Standard & Poor's\",\n",
      "        \"HISTORY_START_DT\": \"1989-09-11\"\n",
      "    }\n",
      "]\n"
     ]
    }
   ],
   "source": [
    "data_json = json.loads(data)\n",
    "print(json.dumps(data_json, indent=4))"
   ]
  },
  {
   "cell_type": "code",
   "execution_count": 1,
   "id": "6e91df5e",
   "metadata": {},
   "outputs": [
    {
     "name": "stdout",
     "output_type": "stream",
     "text": [
      "Collecting zen-bdl\n",
      "  Downloading zen_bdl-0.2-py3-none-any.whl.metadata (557 bytes)\n",
      "Requirement already satisfied: pandas in /opt/anaconda3/lib/python3.11/site-packages (from zen-bdl) (2.1.4)\n",
      "Requirement already satisfied: requests in /opt/anaconda3/lib/python3.11/site-packages (from zen-bdl) (2.32.3)\n",
      "Requirement already satisfied: requests-oauthlib in /opt/anaconda3/lib/python3.11/site-packages (from zen-bdl) (2.0.0)\n",
      "Requirement already satisfied: numpy<2,>=1.23.2 in /opt/anaconda3/lib/python3.11/site-packages (from pandas->zen-bdl) (1.26.4)\n",
      "Requirement already satisfied: python-dateutil>=2.8.2 in /opt/anaconda3/lib/python3.11/site-packages (from pandas->zen-bdl) (2.8.2)\n",
      "Requirement already satisfied: pytz>=2020.1 in /opt/anaconda3/lib/python3.11/site-packages (from pandas->zen-bdl) (2023.3.post1)\n",
      "Requirement already satisfied: tzdata>=2022.1 in /opt/anaconda3/lib/python3.11/site-packages (from pandas->zen-bdl) (2023.3)\n",
      "Requirement already satisfied: charset-normalizer<4,>=2 in /opt/anaconda3/lib/python3.11/site-packages (from requests->zen-bdl) (2.0.4)\n",
      "Requirement already satisfied: idna<4,>=2.5 in /opt/anaconda3/lib/python3.11/site-packages (from requests->zen-bdl) (3.4)\n",
      "Requirement already satisfied: urllib3<3,>=1.21.1 in /opt/anaconda3/lib/python3.11/site-packages (from requests->zen-bdl) (2.0.7)\n",
      "Requirement already satisfied: certifi>=2017.4.17 in /opt/anaconda3/lib/python3.11/site-packages (from requests->zen-bdl) (2024.2.2)\n",
      "Requirement already satisfied: oauthlib>=3.0.0 in /opt/anaconda3/lib/python3.11/site-packages (from requests-oauthlib->zen-bdl) (3.2.2)\n",
      "Requirement already satisfied: six>=1.5 in /opt/anaconda3/lib/python3.11/site-packages (from python-dateutil>=2.8.2->pandas->zen-bdl) (1.16.0)\n",
      "Downloading zen_bdl-0.2-py3-none-any.whl (4.9 kB)\n",
      "Installing collected packages: zen-bdl\n",
      "Successfully installed zen-bdl-0.2\n"
     ]
    }
   ],
   "source": [
    "!pip install zen-bdl"
   ]
  },
  {
   "cell_type": "code",
   "execution_count": 7,
   "id": "3b3e2504",
   "metadata": {},
   "outputs": [
    {
     "ename": "ModuleNotFoundError",
     "evalue": "No module named 'zen_bdl'",
     "output_type": "error",
     "traceback": [
      "\u001b[0;31m---------------------------------------------------------------------------\u001b[0m",
      "\u001b[0;31mModuleNotFoundError\u001b[0m                       Traceback (most recent call last)",
      "Cell \u001b[0;32mIn[7], line 1\u001b[0m\n\u001b[0;32m----> 1\u001b[0m \u001b[38;5;28;01mfrom\u001b[39;00m \u001b[38;5;21;01mzen_bdl\u001b[39;00m \u001b[38;5;28;01mimport\u001b[39;00m BDL\n",
      "\u001b[0;31mModuleNotFoundError\u001b[0m: No module named 'zen_bdl'"
     ]
    }
   ],
   "source": [
    "from zen_bdl import BDL"
   ]
  },
  {
   "cell_type": "code",
   "execution_count": null,
   "id": "ca0d2c82",
   "metadata": {},
   "outputs": [],
   "source": []
  }
 ],
 "metadata": {
  "kernelspec": {
   "display_name": "Python 3",
   "language": "python",
   "name": "python3"
  },
  "language_info": {
   "codemirror_mode": {
    "name": "ipython",
    "version": 3
   },
   "file_extension": ".py",
   "mimetype": "text/x-python",
   "name": "python",
   "nbconvert_exporter": "python",
   "pygments_lexer": "ipython3",
   "version": "3.11.7"
  }
 },
 "nbformat": 4,
 "nbformat_minor": 5
}
